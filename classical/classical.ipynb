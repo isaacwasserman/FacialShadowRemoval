{
 "cells": [
  {
   "cell_type": "code",
   "execution_count": 2,
   "metadata": {},
   "outputs": [
    {
     "name": "stdout",
     "output_type": "stream",
     "text": [
      "make: Nothing to be done for `all'.\n"
     ]
    },
    {
     "name": "stderr",
     "output_type": "stream",
     "text": [
      "objc[87829]: Class CaptureDelegate is implemented in both /Users/isaac/miniforge3/envs/pytorch/lib/python3.10/site-packages/cv2/cv2.cpython-310-darwin.so (0x15e9e6458) and /opt/homebrew/Cellar/opencv/4.8.1_4/lib/libopencv_videoio.4.8.1.dylib (0x2a1bd8880). One of the two will be used. Which one is undefined.\n",
      "objc[87829]: Class CVWindow is implemented in both /Users/isaac/miniforge3/envs/pytorch/lib/python3.10/site-packages/cv2/cv2.cpython-310-darwin.so (0x15e9e64a8) and /opt/homebrew/Cellar/opencv/4.8.1_4/lib/libopencv_highgui.4.8.1.dylib (0x2a1298b38). One of the two will be used. Which one is undefined.\n",
      "objc[87829]: Class CVView is implemented in both /Users/isaac/miniforge3/envs/pytorch/lib/python3.10/site-packages/cv2/cv2.cpython-310-darwin.so (0x15e9e64d0) and /opt/homebrew/Cellar/opencv/4.8.1_4/lib/libopencv_highgui.4.8.1.dylib (0x2a1298b60). One of the two will be used. Which one is undefined.\n",
      "objc[87829]: Class CVSlider is implemented in both /Users/isaac/miniforge3/envs/pytorch/lib/python3.10/site-packages/cv2/cv2.cpython-310-darwin.so (0x15e9e64f8) and /opt/homebrew/Cellar/opencv/4.8.1_4/lib/libopencv_highgui.4.8.1.dylib (0x2a1298b88). One of the two will be used. Which one is undefined.\n"
     ]
    }
   ],
   "source": [
    "import numpy as np\n",
    "import matplotlib.pyplot as plt\n",
    "import cv2\n",
    "import mediapipe as mp\n",
    "import os\n",
    "import urllib.request as urlreq\n",
    "import skimage\n",
    "from skimage.transform import PiecewiseAffineTransform, warp\n",
    "from skimage.color import label2rgb\n",
    "import json\n",
    "import sklearn.mixture\n",
    "import pickle as pkl\n",
    "import torch\n",
    "!cd patchmatch && make\n",
    "from patchmatch import patch_match\n",
    "from PIL import Image\n",
    "from matplotlib.colors import ListedColormap\n",
    "%load_ext line_profiler"
   ]
  },
  {
   "cell_type": "code",
   "execution_count": 7,
   "metadata": {},
   "outputs": [],
   "source": [
    "uv_path = \"uv_map.json\" #taken from https://github.com/spite/FaceMeshFaceGeometry/blob/353ee557bec1c8b55a5e46daf785b57df819812c/js/geometry.js\n",
    "uv_map_dict = json.load(open(uv_path))\n",
    "uv_map = np.array([ (uv_map_dict[\"u\"][str(i)],uv_map_dict[\"v\"][str(i)]) for i in range(468)])\n",
    "\n",
    "with open(\"triangulation.pkl\", \"rb\") as f:\n",
    "    triangles = pkl.load(f)\n",
    "\n",
    "def update_readme():\n",
    "    with open(\"README.md\", \"r\") as f:\n",
    "        lines = f.readlines()\n",
    "    classical_header_index = lines.index(\"## Classical Approach\\n\")\n",
    "    deeplearning_header_index = lines.index(\"## Deep Learning Approach\\n\")\n",
    "\n",
    "    classical_figure_lines = []\n",
    "    # add a line for each figure in /figures in alphabetical order\n",
    "    for figure_name in sorted(os.listdir(\"figures\")):\n",
    "        classical_figure_lines.append(f\"![](figures/{figure_name})\\n\")\n",
    "\n",
    "    # replace the lines between the classical and deep learning headers with the new lines\n",
    "    lines[classical_header_index+1:deeplearning_header_index] = classical_figure_lines\n",
    "    # write the new lines to the README.md file\n",
    "    with open(\"README.md\", \"w\") as f:\n",
    "        f.writelines(lines)\n",
    "\n",
    "\n",
    "def display_images(images, save_name=None):\n",
    "    # display images as a row of subfigures\n",
    "    plt.figure(figsize=(2.5 * len(images), 2.5))\n",
    "    for i in range(len(images)):\n",
    "        plt.subplot(1, len(images), i+1)\n",
    "        plt.imshow(images[i])\n",
    "        plt.axis('off')\n",
    "    plt.tight_layout()\n",
    "    if save_name is not None:\n",
    "        plt.savefig(os.path.join(\"figures\", save_name + \".png\"))\n",
    "\n",
    "def detect_face(image):\n",
    "    # save face detection algorithm's url in haarcascade_url variable\n",
    "    haarcascade_url = \"https://raw.githubusercontent.com/opencv/opencv/master/data/haarcascades/haarcascade_frontalface_alt2.xml\"\n",
    "    # save face detection algorithm's name as haarcascade\n",
    "    haarcascade = \"haarcascade_frontalface_alt2.xml\"\n",
    "    # chech if file is in working directory\n",
    "    if not (haarcascade in os.listdir(os.curdir)):\n",
    "        urlreq.urlretrieve(haarcascade_url, haarcascade)\n",
    "    # create an instance of the Face Detection Cascade Classifier\n",
    "    detector = cv2.CascadeClassifier(haarcascade)\n",
    "\n",
    "    # Detect faces using the haarcascade classifier on the \"grayscale image\"\n",
    "    faces = detector.detectMultiScale(cv2.cvtColor(image, cv2.COLOR_BGR2GRAY))\n",
    "    if len(faces) > 0:\n",
    "        return faces[0]\n",
    "    else:\n",
    "        return np.array([0, image.shape[1], 0, image.shape[0]])\n",
    "\n",
    "def display_bounding_boxes(images, bounding_boxes):\n",
    "    image_templates = [image.copy() for image in images]\n",
    "    for i, bounding_box in enumerate(bounding_boxes):\n",
    "        (x,y,w,d) = bounding_box\n",
    "        cv2.rectangle(image_templates[i],(x,y),(x+w, y+d),(255, 255, 255), 2)\n",
    "    display_images(image_templates)\n",
    "\n",
    "def detect_landmarks(image, bounding_box):\n",
    "    # save facial landmark detection model's url in LBFmodel_url variable\n",
    "    LBFmodel_url = \"https://github.com/kurnianggoro/GSOC2017/raw/master/data/lbfmodel.yaml\"\n",
    "    # save facial landmark detection model's name as LBFmodel\n",
    "    LBFmodel = \"LFBmodel.yaml\"\n",
    "    # check if file is in working directory\n",
    "    if not (LBFmodel in os.listdir(os.curdir)):\n",
    "        urlreq.urlretrieve(LBFmodel_url, LBFmodel)\n",
    "    # create an instance of the Facial landmark Detector with the model\n",
    "    landmark_detector  = cv2.face.createFacemarkLBF()\n",
    "    landmark_detector.loadModel(LBFmodel)\n",
    "    # Detect landmarks on \"image_gray\"\n",
    "    _, landmarks = landmark_detector.fit(cv2.cvtColor(image, cv2.COLOR_BGR2GRAY), np.array([bounding_box]))\n",
    "    if len(landmarks) > 0:\n",
    "        return landmarks[0]\n",
    "    else:\n",
    "        return np.zeros((68, 2))\n",
    "\n",
    "def display_landmarks(images, landmarks):\n",
    "    image_templates = [image.copy() for image in images]\n",
    "    for i, landmark_set in enumerate(landmarks):\n",
    "        for landmark in landmark_set[0]:\n",
    "            x, y = landmark\n",
    "            cv2.circle(image_templates[i], (int(x), int(y)), 1, (255, 255, 255), 2)\n",
    "    display_images(image_templates)\n",
    "\n",
    "def detect_landmarks_3D(image):\n",
    "    NUM_FACE = 1\n",
    "    mpFaceMesh = mp.solutions.face_mesh\n",
    "    faceMesh = mpFaceMesh.FaceMesh(max_num_faces=NUM_FACE)\n",
    "    imgRGB = cv2.cvtColor(image, cv2.COLOR_BGR2RGB)\n",
    "    results = faceMesh.process(imgRGB)\n",
    "    if results.multi_face_landmarks:\n",
    "        return results.multi_face_landmarks[0]\n",
    "    else:\n",
    "        return None\n",
    "    \n",
    "def convert_landmarks_to_2D(landmarks_3D):\n",
    "    return np.array([(point.x, point.y) for point in landmarks_3D.landmark[0:468]])\n",
    "    \n",
    "def display_landmarks_3D(images, landmarkss, save_name=None):\n",
    "    img_templates = [image.copy() for image in images]\n",
    "    for i, landmarks in enumerate(landmarkss):\n",
    "        mpDraw = mp.solutions.drawing_utils\n",
    "        drawSpec = mpDraw.DrawingSpec(thickness=1, circle_radius=1)\n",
    "        img = img_templates[i]\n",
    "        mpFaceMesh = mp.solutions.face_mesh\n",
    "        mpDraw.draw_landmarks(img, landmarks, mpFaceMesh.FACEMESH_CONTOURS, drawSpec, drawSpec)\n",
    "        for id,lm in enumerate(landmarks.landmark):\n",
    "            ih, iw, ic = img.shape\n",
    "            x,y = int(lm.x*iw), int(lm.y*ih)\n",
    "    display_images(img_templates, save_name=save_name)\n",
    "\n",
    "def detect_edges(image):\n",
    "    # blur the image\n",
    "    blurred_image = cv2.GaussianBlur(image, (7, 7), 0)\n",
    "    # apply canny edge detection algorithm on the image\n",
    "    return cv2.Canny(blurred_image, 25, 100)\n",
    "\n",
    "def unwrap_face(image, landmarks):\n",
    "    H_new,W_new = image.shape[0],image.shape[1]\n",
    "    keypoints_uv = np.array([(W_new*x, H_new*y) for x,y in uv_map])\n",
    "    keypoints = np.array([(W_new*point.x,H_new*point.y) for point in landmarks.landmark[0:468]])\n",
    "\n",
    "    tform = PiecewiseAffineTransform()\n",
    "    tform.estimate(keypoints_uv, keypoints)\n",
    "    texture = warp(image, tform, output_shape=(H_new,W_new))\n",
    "    texture = (255*texture).astype(np.uint8)\n",
    "\n",
    "    return texture\n",
    "\n",
    "def discard_eyes_eyebrows_and_nostrils(image, points):\n",
    "    global triangles\n",
    "    triangles_to_discard = np.array([835, 760, 761, 757, 528, 527, 386, 387, 386, 387, 505, 506,\n",
    "                        507, 535, 675, 771, 764, 763, 411, 412, 285, 286, 407, 406, 550, 551,\n",
    "                        552, 684, 776, 777, 291, 294, 272, 547, 548, 543, 402, 253, 375, 376,\n",
    "                        374, 249, 248, 373, 588, 589, 486, 342, 485, 587, 717, 716, 718,\n",
    "                        720, 721, 613, 387, 386, 719, 714, 846, 845, 606, 605, 311, 312, 223,\n",
    "                        224, 119, 109, 221, 350, 491, 809, 808, 728, 804, 803, 819, 818, 724,\n",
    "                        844, 852, 888, 890, 889, 891,802, 469, 470, 467, 118, 640, 641, 638,\n",
    "                        639, 637, 810, 821, 820, 811, 870, 869, 868, 854, 897, 896, 894, 895,\n",
    "                        864, 865, 863, 862, 817, 646, 896, 866, 867, 861, 860, 859, 856, 860,\n",
    "                        855, 816, 857, 858, 815, 816, 730, 729, 812, 813, 814, 629, 630, 643,\n",
    "                        642, 629, 30, 120, 159, 158, 468, 466, 471, 604, 800, 801, 850, 885, 882,\n",
    "                        883, 851, 879, 878, 877, 881, 880, 715, 884, 886, 156, 157, 230, 229,\n",
    "                        227, 226, 635, 353, 636, 722, 723, 731, 732, 631, 632, 733, 735, 876,\n",
    "                        875, 874, 873, 871, 872, 822, 824, 853, 893, 892, 734, 807, 806, 805,\n",
    "                        887, 602, 603, 464, 465, 313, 228, 815, 816, 860, 629, 896])\n",
    "    # find pixels within the triangles\n",
    "    mask = np.ones(image.shape[:2], dtype=bool)\n",
    "    for triangle_index in triangles_to_discard:\n",
    "        triangle = points[triangles[triangle_index]][:, ::-1] * np.array([image.shape[1], image.shape[0]])\n",
    "        # if triangle[:, 0].max() > 125 and triangle[:, 0].max() < 150:\n",
    "        #     print(triangle_index)\n",
    "        mask = mask ^ skimage.draw.polygon2mask(image.shape[:2], triangle)\n",
    "    return image * mask[:, :, np.newaxis]\n",
    "        \n",
    "def identify_shadow_distribution(unwrapped_face):\n",
    "    # Get non-black pixels.\n",
    "    face_pixels = unwrapped_face.reshape(-1, 3)\n",
    "    face_pixels = face_pixels[np.sum(face_pixels, axis=1) > 0]\n",
    "    lab_face_pixels = skimage.color.rgb2lab(face_pixels.reshape(1, -1, 3)).reshape(-1, 3)\n",
    "    # Fit a Gaussian mixture model.\n",
    "    gmm = sklearn.mixture.GaussianMixture(n_components=2, covariance_type=\"diag\")\n",
    "    gmm.fit(lab_face_pixels)\n",
    "    return gmm\n",
    "\n",
    "def generate_shadow_probability(unwrapped_face, model):\n",
    "    face_pixels = unwrapped_face.reshape(-1, 3)\n",
    "    face_pixels = face_pixels[np.sum(face_pixels, axis=1) > 0]\n",
    "    lab_face_pixels = skimage.color.rgb2lab(face_pixels.reshape(1, -1, 3)).reshape(-1, 3)\n",
    "    gmm = model\n",
    "    probabilities = gmm.predict_proba(lab_face_pixels)[:, 0]\n",
    "    predictions = probabilities > 0.5\n",
    "    if np.mean(face_pixels[predictions == 0], axis=0)[0] < np.mean(face_pixels[predictions == 1], axis=0)[0]:\n",
    "        probabilities = 1 - probabilities\n",
    "    mask = np.zeros(unwrapped_face.shape[:2])\n",
    "    mask[np.sum(unwrapped_face, axis=2) > 0] = probabilities\n",
    "    mask[np.sum(unwrapped_face, axis=2) <= 0] = -1\n",
    "    return mask\n",
    "\n",
    "def generate_imputed_mean_color(unwrapped_face, shadow_probability):\n",
    "    shadow_mask = (shadow_probability < 0.5).astype(np.uint8)\n",
    "    shadow_mask_dilated = cv2.erode(shadow_mask, np.ones((11, 11), np.uint8), iterations=1)\n",
    "    data = unwrapped_face * shadow_mask_dilated[:,:,np.newaxis]\n",
    "    # create 256x256x2 array of xy coordinates\n",
    "    xy = np.dstack(np.meshgrid(np.arange(data.shape[1]), np.arange(data.shape[0])))\n",
    "    # add as channels of data\n",
    "    data = np.dstack([xy, data])\n",
    "    data = data.reshape(-1, 5).astype(np.float32)\n",
    "    mask = data[:, -3:].sum(axis=1) == 0\n",
    "    poly = sklearn.preprocessing.PolynomialFeatures(1)\n",
    "    X_train = poly.fit_transform(data[~mask, :-3])\n",
    "    X_test = poly.transform(data[mask, :-3])\n",
    "    data[mask, -3:] = sklearn.linear_model.LinearRegression().fit(X_train, data[~mask, -3:]).predict(X_test)\n",
    "\n",
    "    imputed = data.reshape(256, 256, 5)[:,:,-3:]\n",
    "    existing_pixels = unwrapped_face * shadow_mask[:,:,np.newaxis]\n",
    "    add_mask = np.dstack([imputed.sum(axis=2) > existing_pixels.sum(axis=2)]*3)\n",
    "    color = (imputed * add_mask + existing_pixels * (1 - add_mask)).clip(0,255).astype(np.uint8)\n",
    "    color = cv2.medianBlur(color, 29)\n",
    "    return color\n",
    "\n",
    "def remove_shadow_naive(source, mean_color_map, shadow_probability, uniform=False):\n",
    "    target_means = mean_color_map\n",
    "    source_means = cv2.medianBlur(source, 29)\n",
    "    shadow_mask = shadow_probability > 0.5\n",
    "    if uniform:\n",
    "        shadow_mask = np.ones(source.shape[:2]).astype(np.uint8)\n",
    "    \n",
    "    adjustment_factor = ((target_means).astype(np.float32) / (source_means).astype(np.float32))\n",
    "    adjustment_factor[source.sum(axis=2) == 0] = 1\n",
    "    adjustment_factor = np.dstack([shadow_mask]*3) * (adjustment_factor - 1)\n",
    "    adjustment_factor = cv2.GaussianBlur((adjustment_factor * 255).clip(0, 255).astype(np.uint8), (3, 3), 1) / 255\n",
    "    unshadowed_face = (source * (1 + adjustment_factor)).clip(0, 255).astype(np.uint8)\n",
    "    return unshadowed_face\n",
    "\n",
    "def wrap_face(unwrapped_face, landmarks):\n",
    "    H_new,W_new = unwrapped_face.shape[0],unwrapped_face.shape[1]\n",
    "    keypoints_uv = np.array([(W_new*x, H_new*y) for x,y in uv_map])\n",
    "    keypoints = np.array([(W_new*point.x,H_new*point.y) for point in landmarks.landmark[0:468]])\n",
    "\n",
    "    tform = PiecewiseAffineTransform()\n",
    "    tform.estimate(keypoints, keypoints_uv)\n",
    "    wrapped = warp(unwrapped_face, tform, output_shape=(H_new,W_new))\n",
    "    wrapped = (255*wrapped).astype(np.uint8)\n",
    "\n",
    "    return wrapped\n",
    "\n",
    "def blend_seamless(original_image, rewrapped_face, landmarks):\n",
    "    noise = (np.random.normal(0, 1, rewrapped_face.shape) * 5).clip(0, 255).astype(np.uint8)\n",
    "    noisy_rewrapped_face = (rewrapped_face.astype(int) + noise.astype(int)).clip(0, 255).astype(np.uint8)\n",
    "    alpha = (rewrapped_face.sum(2) > 0).astype(np.uint8) * 255\n",
    "\n",
    "    noisy_rewrapped_face = noisy_rewrapped_face.astype(int) + (original_image * ((255 - alpha[:,:,np.newaxis]) / 255))\n",
    "    noisy_rewrapped_face = noisy_rewrapped_face.clip(0, 255).astype(np.uint8)\n",
    "\n",
    "    alpha = cv2.erode(alpha, np.ones((5, 5), np.uint8), iterations=1)\n",
    "\n",
    "    alpha = cv2.GaussianBlur(alpha, (51, 51), 0, borderType=cv2.BORDER_REFLECT)\n",
    "    alpha = alpha[:,:,np.newaxis]\n",
    "\n",
    "    src_luminance = noisy_rewrapped_face.sum(2)\n",
    "    dst_luminance = original_image.sum(2)\n",
    "    alpha[dst_luminance > src_luminance] = 255\n",
    "\n",
    "    highest_landmark = 1\n",
    "    lowest_landmark = 0\n",
    "    leftmost_landmark = 1\n",
    "    rightmost_landmark = 0\n",
    "    for landmark in convert_landmarks_to_2D(landmarks):\n",
    "        if landmark[1] < highest_landmark:\n",
    "            highest_landmark = landmark[1]\n",
    "        if landmark[1] > lowest_landmark:\n",
    "            lowest_landmark = landmark[1]\n",
    "        if landmark[0] < leftmost_landmark:\n",
    "            leftmost_landmark = landmark[0]\n",
    "        if landmark[0] > rightmost_landmark:\n",
    "            rightmost_landmark = landmark[0]\n",
    "\n",
    "    center = (np.mean([highest_landmark, lowest_landmark]) * original_image.shape[0], np.mean([leftmost_landmark, rightmost_landmark]) * original_image.shape[1])\n",
    "    center = (int(center[1]) - 1, int(center[0]) - 1)\n",
    "    seamless_blend = cv2.seamlessClone(noisy_rewrapped_face, original_image, alpha, center, cv2.NORMAL_CLONE)\n",
    "    return seamless_blend\n",
    "\n",
    "def get_eye_mouth(image, landmarks_2d):\n",
    "    global triangles\n",
    "    triangles_to_include = np.array([835, 760, 761, 757, 528, 527, 386, 387, 386, 387, 505, 506,\n",
    "                        507, 535, 675, 771, 764, 763, 411, 412, 285, 286, 407, 406, 550, 551,\n",
    "                        552, 684, 776, 777, 291, 294, 272, 547, 548, 543, 402, 253, 375, 376,\n",
    "                        374, 249, 248, 373, 588, 589, 486, 342, 485, 587, 717, 716, 718,\n",
    "                        720, 721, 613, 387, 386, 719, 714, 846, 845, 606, 605, 311, 312, 223,\n",
    "                        224, 119, 109, 221, 350, 491, 809, 808, 728, 804, 803, 819, 818, 724,\n",
    "                        844, 852, 888, 890, 889, 891,802, 469, 470, 467, 118, 640, 641, 638,\n",
    "                        639, 637, 810, 821, 820, 811, 870, 869, 868, 854, 897, 896, 894, 895,\n",
    "                        864, 865, 863, 862, 817, 646, 896, 866, 867, 861, 860, 859, 856, 860,\n",
    "                        855, 816, 857, 858, 815, 816, 730, 729, 812, 813, 814, 629, 630, 643,\n",
    "                        642, 629, 30, 120, 159, 158, 468, 466, 471, 604, 800, 801, 850, 885, 882,\n",
    "                        883, 851, 879, 878, 877, 881, 880, 715, 884, 886, 156, 157, 230, 229,\n",
    "                        227, 226, 635, 353, 636, 722, 723, 731, 732, 631, 632, 733, 735, 876,\n",
    "                        875, 874, 873, 871, 872, 822, 824, 853, 893, 892, 734, 807, 806, 805,\n",
    "                        887, 602, 603, 464, 465, 313, 228, 815, 816, 860, 629, 896])\n",
    "    # find pixels within the triangles\n",
    "    mask = np.ones(image.shape[:2], dtype=bool)\n",
    "    for triangle_index in triangles_to_include:\n",
    "        triangle = landmarks_2d[triangles[triangle_index]][:, ::-1] * np.array([image.shape[1], image.shape[0]])\n",
    "        mask = mask ^ skimage.draw.polygon2mask(image.shape[:2], triangle)\n",
    "    return image * ~mask[:, :, np.newaxis]\n",
    "\n",
    "def get_face_mask(face_image, landmarks_2d_unscaled):\n",
    "    landmarks_2d = landmarks_2d_unscaled * np.array([face_image.shape[1], face_image.shape[0]])\n",
    "    global triangles\n",
    "    mask = np.ones((256, 256), dtype=bool)\n",
    "    for triangle in triangles:\n",
    "        mask = mask ^ skimage.draw.polygon2mask((256, 256), landmarks_2d[triangle][:, ::-1])\n",
    "    return ~mask[:,:,np.newaxis]\n",
    "\n",
    "def inpaint(image, mask):\n",
    "    result = patch_match.inpaint(image, (mask[:,:,np.newaxis] * 255).clip(0,255).astype(np.uint8), patch_size=4)\n",
    "    return result\n",
    "\n",
    "def composite(background, foreground, mask=None, poisson=False):\n",
    "    if mask is None:\n",
    "        mask = np.ones(foreground.shape[:2], dtype=bool)\n",
    "        mask[np.where(foreground.sum(axis=2) == 0)] = False\n",
    "    if mask.ndim == 2:\n",
    "        mask = mask[:,:,np.newaxis]\n",
    "    if poisson:\n",
    "        poisson_blended = np.zeros(background.shape, dtype=np.uint8)\n",
    "        mask = mask.astype(np.uint8) * 255\n",
    "        mask_min_x = np.min(np.where(mask.sum(axis=0) > 0)[0])\n",
    "        mask_max_x = np.max(np.where(mask.sum(axis=0) > 0)[0])\n",
    "        mask_min_y = np.min(np.where(mask.sum(axis=1) > 0)[0])\n",
    "        mask_max_y = np.max(np.where(mask.sum(axis=1) > 0)[0])\n",
    "        mask_center_x = (mask_min_x + mask_max_x) // 2\n",
    "        mask_center_y = (mask_min_y + mask_max_y) // 2\n",
    "        foreground = foreground.clip(0, 255).astype(np.uint8)\n",
    "        background = background.clip(0, 255).astype(np.uint8)\n",
    "        poisson_blended = cv2.seamlessClone(foreground, background, mask, (mask_center_x, mask_center_y), cv2.NORMAL_CLONE).clip(0, 255).astype(np.uint8)\n",
    "        return poisson_blended\n",
    "    else:\n",
    "        no_poisson = (background * (1 - mask) + foreground * mask).clip(0, 255).astype(np.uint8)\n",
    "        return no_poisson\n",
    "\n",
    "def refine_mask(mask_):\n",
    "    radius = 6\n",
    "    mask = mask_.astype(np.uint8) * 255\n",
    "    kernel = cv2.getStructuringElement(cv2.MORPH_ELLIPSE, (radius, radius))\n",
    "    mask = cv2.morphologyEx(mask, cv2.MORPH_OPEN, kernel)\n",
    "    return mask\n",
    "\n",
    "def get_largest_connected_component(mask, ignore_mask=None):\n",
    "    mask = mask.astype(np.uint8) * 255\n",
    "    ignore_mask = ignore_mask.astype(np.uint8) * 255\n",
    "    ignore_mask = cv2.dilate(ignore_mask, np.ones((3, 3), np.uint8), iterations=10)\n",
    "    # if ignore_mask is not None:\n",
    "    #     mask = mask * (255 - ignore_mask)\n",
    "    num_labels, labels, stats, centroids = cv2.connectedComponentsWithStats(mask)\n",
    "    largest_component_index = np.argmax(stats[1:, 4]) + 1\n",
    "    largest_component_mask = (labels == largest_component_index).astype(np.uint8)\n",
    "    return largest_component_mask\n",
    "\n",
    "def sharpen(image, mask=None):\n",
    "    if mask is None:\n",
    "        mask = np.ones(image.shape[:2], dtype=bool)\n",
    "    mask = mask[:,:,np.newaxis]\n",
    "    blurred = cv2.GaussianBlur(image, (0, 0), 3)\n",
    "    sharpened = cv2.addWeighted(image, 1.5, blurred, -0.5, 0)\n",
    "    return (image * (1 - mask) + sharpened * mask).clip(0, 255).astype(np.uint8)\n",
    "\n",
    "def migrate_landmarks(landmarks_2d):\n",
    "    forehead_landmarks = [10, 67, 103, 109, 297, 332, 338]\n",
    "    max_y = landmarks_2d[:, 1].max()\n",
    "    min_y = landmarks_2d[:, 1].min()\n",
    "    face_height = max_y - min_y\n",
    "    for point_index in forehead_landmarks:\n",
    "        landmarks_2d[point_index, 1] -= face_height * 0.15\n",
    "    return landmarks_2d\n",
    "\n",
    "def ease_out(x):\n",
    "    return (1 - (x - 1)**2)\n",
    "ease_out_values = np.linspace(0, 1, 256)\n",
    "ease_out_colors = np.column_stack([ease_out(ease_out_values), ease_out(ease_out_values), ease_out(ease_out_values)])\n",
    "ease_out_cmap = ListedColormap(ease_out_colors)\n",
    "\n",
    "def blend_forehead_mask(face_mask, landmarks_2d):\n",
    "    global triangles\n",
    "    landmarks = landmarks_2d\n",
    "    migrated_landmarks = migrate_landmarks(landmarks)\n",
    "    colors = np.ones(len(migrated_landmarks), dtype=np.uint8) * 1\n",
    "    forehead_landmarks = [10, 67, 103, 109, 297, 332, 338]\n",
    "    colors[forehead_landmarks] = 0\n",
    "    fig = plt.figure()\n",
    "    fig.add_subplot(111)\n",
    "    plt.imshow(face_mask[:,:,0], cmap=\"gray\")\n",
    "    plt.tricontour(migrated_landmarks[:,0] * 256, migrated_landmarks[:,1] * 256, colors, levels=256, cmap=ease_out_cmap)\n",
    "    plt.axis('off')\n",
    "    plt.tight_layout()\n",
    "    plt.savefig(\"tmp.png\", bbox_inches='tight', pad_inches=0)\n",
    "    plt.clf()\n",
    "    extended_face_mask = np.array(Image.fromarray(plt.imread(\"tmp.png\")[:,:,0]).resize((256, 256)))\n",
    "    return extended_face_mask\n",
    "\n",
    "def blend_forehead(face_image, original_mask, unshadowed_unmasked_face_image, landmarks_2d):\n",
    "    soft_mask = blend_forehead_mask(original_mask, landmarks_2d)\n",
    "    soft_mask = soft_mask[:,:,np.newaxis]\n",
    "    return composite(face_image, unshadowed_unmasked_face_image, mask=soft_mask, poisson=False) \n",
    "\n",
    "def pipeline(image):\n",
    "    if type(image) != list:\n",
    "        face_images = [image]\n",
    "    else:\n",
    "        face_images = image\n",
    "    face_landmarks_3d = [detect_landmarks_3D(image) for image in face_images]\n",
    "    for i in range(len(face_landmarks_3d)):\n",
    "        if face_landmarks_3d[i] is None:\n",
    "            if i == 0:\n",
    "                for j in range(1, len(face_landmarks_3d)):\n",
    "                    if face_landmarks_3d[j] is not None:\n",
    "                        face_landmarks_3d[i] = face_landmarks_3d[j]\n",
    "                        break\n",
    "            else:\n",
    "                face_landmarks_3d[i] = face_landmarks_3d[i-1]\n",
    "    face_landmarks_2d = [convert_landmarks_to_2D(landmarks) for landmarks in face_landmarks_3d]\n",
    "    face_masks = [get_face_mask(face_image, landmarks) for face_image, landmarks in zip(face_images, face_landmarks_2d)]\n",
    "    face_masks = [blend_forehead_mask(face_mask, landmarks)[:,:,np.newaxis] for face_mask, landmarks in zip(face_masks, face_landmarks_2d)]\n",
    "    masked_face_images = [(face_image * mask).clip(0, 255).astype(np.uint8) for face_image, mask in zip(face_images, face_masks)]\n",
    "    unmasked_shadow_masks = [generate_shadow_probability(face_image, identify_shadow_distribution(masked_face_image)) > 0.5 for face_image, masked_face_image in zip(face_images, masked_face_images)]\n",
    "    unmasked_shadow_masks = [refine_mask(shadow_mask) for shadow_mask in unmasked_shadow_masks]\n",
    "    unmasked_ignore_masks = [get_eye_mouth(image, landmarks).sum(2) > 0 for image, landmarks in zip(face_images, face_landmarks_2d)]\n",
    "    unmasked_shadow_masks = [get_largest_connected_component(shadow_mask, ignore_mask) for shadow_mask, ignore_mask in zip(unmasked_shadow_masks, unmasked_ignore_masks)]\n",
    "    shadow_masks = [generate_shadow_probability(masked_face_image, identify_shadow_distribution(masked_face_image)) > 0.5 for masked_face_image in masked_face_images]\n",
    "    shadow_masks = [refine_mask(shadow_mask) for shadow_mask in shadow_masks]\n",
    "    ignore_masks = [get_eye_mouth(image, landmarks).sum(2) > 0 for image, landmarks in zip(face_images, face_landmarks_2d)]\n",
    "    shadow_masks = [get_largest_connected_component(shadow_mask, ignore_mask) for shadow_mask, ignore_mask in zip(shadow_masks, ignore_masks)]\n",
    "    dilated_shadow_masks = [cv2.dilate(shadow_mask.astype(np.uint8), np.array([[0,1,0],[1,1,1],[0,1,0]], np.uint8), iterations=7) for shadow_mask in shadow_masks]\n",
    "    dilation_diffs = [(dilated_shadow_mask - shadow_mask) * face_mask[:,:,0] for dilated_shadow_mask, shadow_mask, face_mask in zip(dilated_shadow_masks, shadow_masks, face_masks)]\n",
    "    mean_color_maps = [generate_imputed_mean_color(masked_face_image, shadow_mask) for masked_face_image, shadow_mask in zip(masked_face_images, shadow_masks)]\n",
    "    unshadowed_unmasked_face_images = [remove_shadow_naive(face_image, mean_color_map, shadow_mask, uniform=False) for face_image, shadow_mask, mean_color_map in zip(face_images, unmasked_shadow_masks, mean_color_maps)]\n",
    "    unshadowed_unmasked_face_images = [blend_forehead(face_images[i], face_masks[i], unshadowed_unmasked_face_images[i], face_landmarks_2d[i]) for i in range(len(face_images))]\n",
    "    composited = [((1 - mask) * face_image + mask * unshadowed_unmasked_face_image).clip(0,255).astype(np.uint8) for mask, face_image, unshadowed_unmasked_face_image in zip(face_masks, face_images, unshadowed_unmasked_face_images)]\n",
    "    inpainting_masks = dilation_diffs\n",
    "    inpaintings = [inpaint(composite, dilation_diff) for composite, dilation_diff in zip(composited, dilation_diffs)]\n",
    "    eyes_mouth_added_back = [composite(inpainted, get_eye_mouth(image, landmarks), poisson=True) for inpainted, image, landmarks in zip(inpaintings, face_images, face_landmarks_2d)]\n",
    "    sharpening_masks = [(get_eye_mouth(image, landmarks).sum(2) + inpainting_mask) > 0 for image, landmarks, inpainting_mask in zip(eyes_mouth_added_back, face_landmarks_2d, inpainting_masks)]\n",
    "    eyes_mouth_sharpened = [sharpen(image, mask) for image, mask in zip(eyes_mouth_added_back, sharpening_masks)]\n",
    "    if type(image) != list:\n",
    "        return eyes_mouth_sharpened[0]\n",
    "    else:\n",
    "        return eyes_mouth_sharpened"
   ]
  },
  {
   "cell_type": "code",
   "execution_count": 11,
   "metadata": {},
   "outputs": [
    {
     "name": "stderr",
     "output_type": "stream",
     "text": [
      "/var/folders/zc/s2x1jcqx7gd7y6myf0gmt49c0000gn/T/ipykernel_87829/3059091120.py:374: RuntimeWarning: More than 20 figures have been opened. Figures created through the pyplot interface (`matplotlib.pyplot.figure`) are retained until explicitly closed and may consume too much memory. (To control this warning, see the rcParam `figure.max_open_warning`). Consider using `matplotlib.pyplot.close()`.\n",
      "  fig = plt.figure()\n",
      "/var/folders/zc/s2x1jcqx7gd7y6myf0gmt49c0000gn/T/ipykernel_87829/3059091120.py:212: RuntimeWarning: divide by zero encountered in divide\n",
      "  adjustment_factor = ((target_means).astype(np.float32) / (source_means).astype(np.float32))\n",
      "/var/folders/zc/s2x1jcqx7gd7y6myf0gmt49c0000gn/T/ipykernel_87829/3059091120.py:214: RuntimeWarning: invalid value encountered in multiply\n",
      "  adjustment_factor = np.dstack([shadow_mask]*3) * (adjustment_factor - 1)\n",
      "/var/folders/zc/s2x1jcqx7gd7y6myf0gmt49c0000gn/T/ipykernel_87829/3059091120.py:212: RuntimeWarning: invalid value encountered in divide\n",
      "  adjustment_factor = ((target_means).astype(np.float32) / (source_means).astype(np.float32))\n"
     ]
    },
    {
     "data": {
      "text/plain": [
       "<Figure size 640x480 with 0 Axes>"
      ]
     },
     "metadata": {},
     "output_type": "display_data"
    },
    {
     "data": {
      "text/plain": [
       "<Figure size 640x480 with 0 Axes>"
      ]
     },
     "metadata": {},
     "output_type": "display_data"
    },
    {
     "data": {
      "text/plain": [
       "<Figure size 640x480 with 0 Axes>"
      ]
     },
     "metadata": {},
     "output_type": "display_data"
    },
    {
     "data": {
      "text/plain": [
       "<Figure size 640x480 with 0 Axes>"
      ]
     },
     "metadata": {},
     "output_type": "display_data"
    },
    {
     "data": {
      "text/plain": [
       "<Figure size 640x480 with 0 Axes>"
      ]
     },
     "metadata": {},
     "output_type": "display_data"
    },
    {
     "data": {
      "text/plain": [
       "<Figure size 640x480 with 0 Axes>"
      ]
     },
     "metadata": {},
     "output_type": "display_data"
    },
    {
     "data": {
      "text/plain": [
       "<Figure size 640x480 with 0 Axes>"
      ]
     },
     "metadata": {},
     "output_type": "display_data"
    },
    {
     "data": {
      "text/plain": [
       "<Figure size 640x480 with 0 Axes>"
      ]
     },
     "metadata": {},
     "output_type": "display_data"
    },
    {
     "data": {
      "text/plain": [
       "<Figure size 640x480 with 0 Axes>"
      ]
     },
     "metadata": {},
     "output_type": "display_data"
    },
    {
     "data": {
      "text/plain": [
       "<Figure size 640x480 with 0 Axes>"
      ]
     },
     "metadata": {},
     "output_type": "display_data"
    },
    {
     "data": {
      "text/plain": [
       "<Figure size 640x480 with 0 Axes>"
      ]
     },
     "metadata": {},
     "output_type": "display_data"
    },
    {
     "data": {
      "text/plain": [
       "<Figure size 640x480 with 0 Axes>"
      ]
     },
     "metadata": {},
     "output_type": "display_data"
    },
    {
     "data": {
      "text/plain": [
       "<Figure size 640x480 with 0 Axes>"
      ]
     },
     "metadata": {},
     "output_type": "display_data"
    },
    {
     "data": {
      "text/plain": [
       "<Figure size 640x480 with 0 Axes>"
      ]
     },
     "metadata": {},
     "output_type": "display_data"
    },
    {
     "data": {
      "text/plain": [
       "<Figure size 640x480 with 0 Axes>"
      ]
     },
     "metadata": {},
     "output_type": "display_data"
    },
    {
     "data": {
      "text/plain": [
       "<Figure size 640x480 with 0 Axes>"
      ]
     },
     "metadata": {},
     "output_type": "display_data"
    },
    {
     "data": {
      "text/plain": [
       "<Figure size 640x480 with 0 Axes>"
      ]
     },
     "metadata": {},
     "output_type": "display_data"
    },
    {
     "data": {
      "text/plain": [
       "<Figure size 640x480 with 0 Axes>"
      ]
     },
     "metadata": {},
     "output_type": "display_data"
    },
    {
     "data": {
      "text/plain": [
       "<Figure size 640x480 with 0 Axes>"
      ]
     },
     "metadata": {},
     "output_type": "display_data"
    },
    {
     "data": {
      "text/plain": [
       "<Figure size 640x480 with 0 Axes>"
      ]
     },
     "metadata": {},
     "output_type": "display_data"
    },
    {
     "data": {
      "text/plain": [
       "<Figure size 640x480 with 0 Axes>"
      ]
     },
     "metadata": {},
     "output_type": "display_data"
    },
    {
     "data": {
      "text/plain": [
       "<Figure size 640x480 with 0 Axes>"
      ]
     },
     "metadata": {},
     "output_type": "display_data"
    },
    {
     "data": {
      "text/plain": [
       "<Figure size 640x480 with 0 Axes>"
      ]
     },
     "metadata": {},
     "output_type": "display_data"
    },
    {
     "data": {
      "text/plain": [
       "<Figure size 640x480 with 0 Axes>"
      ]
     },
     "metadata": {},
     "output_type": "display_data"
    },
    {
     "data": {
      "text/plain": [
       "<Figure size 640x480 with 0 Axes>"
      ]
     },
     "metadata": {},
     "output_type": "display_data"
    },
    {
     "data": {
      "text/plain": [
       "<Figure size 640x480 with 0 Axes>"
      ]
     },
     "metadata": {},
     "output_type": "display_data"
    },
    {
     "data": {
      "text/plain": [
       "<Figure size 640x480 with 0 Axes>"
      ]
     },
     "metadata": {},
     "output_type": "display_data"
    },
    {
     "data": {
      "text/plain": [
       "<Figure size 640x480 with 0 Axes>"
      ]
     },
     "metadata": {},
     "output_type": "display_data"
    },
    {
     "data": {
      "text/plain": [
       "<Figure size 640x480 with 0 Axes>"
      ]
     },
     "metadata": {},
     "output_type": "display_data"
    },
    {
     "data": {
      "text/plain": [
       "<Figure size 640x480 with 0 Axes>"
      ]
     },
     "metadata": {},
     "output_type": "display_data"
    },
    {
     "data": {
      "text/plain": [
       "<Figure size 640x480 with 0 Axes>"
      ]
     },
     "metadata": {},
     "output_type": "display_data"
    },
    {
     "data": {
      "text/plain": [
       "<Figure size 640x480 with 0 Axes>"
      ]
     },
     "metadata": {},
     "output_type": "display_data"
    },
    {
     "data": {
      "text/plain": [
       "<Figure size 640x480 with 0 Axes>"
      ]
     },
     "metadata": {},
     "output_type": "display_data"
    },
    {
     "data": {
      "text/plain": [
       "<Figure size 640x480 with 0 Axes>"
      ]
     },
     "metadata": {},
     "output_type": "display_data"
    },
    {
     "data": {
      "text/plain": [
       "<Figure size 640x480 with 0 Axes>"
      ]
     },
     "metadata": {},
     "output_type": "display_data"
    },
    {
     "data": {
      "text/plain": [
       "<Figure size 640x480 with 0 Axes>"
      ]
     },
     "metadata": {},
     "output_type": "display_data"
    },
    {
     "data": {
      "text/plain": [
       "<Figure size 640x480 with 0 Axes>"
      ]
     },
     "metadata": {},
     "output_type": "display_data"
    },
    {
     "data": {
      "text/plain": [
       "<Figure size 640x480 with 0 Axes>"
      ]
     },
     "metadata": {},
     "output_type": "display_data"
    },
    {
     "data": {
      "text/plain": [
       "<Figure size 640x480 with 0 Axes>"
      ]
     },
     "metadata": {},
     "output_type": "display_data"
    },
    {
     "data": {
      "text/plain": [
       "<Figure size 640x480 with 0 Axes>"
      ]
     },
     "metadata": {},
     "output_type": "display_data"
    },
    {
     "data": {
      "text/plain": [
       "<Figure size 640x480 with 0 Axes>"
      ]
     },
     "metadata": {},
     "output_type": "display_data"
    },
    {
     "data": {
      "text/plain": [
       "<Figure size 640x480 with 0 Axes>"
      ]
     },
     "metadata": {},
     "output_type": "display_data"
    },
    {
     "data": {
      "text/plain": [
       "<Figure size 640x480 with 0 Axes>"
      ]
     },
     "metadata": {},
     "output_type": "display_data"
    },
    {
     "data": {
      "text/plain": [
       "<Figure size 640x480 with 0 Axes>"
      ]
     },
     "metadata": {},
     "output_type": "display_data"
    },
    {
     "data": {
      "text/plain": [
       "<Figure size 640x480 with 0 Axes>"
      ]
     },
     "metadata": {},
     "output_type": "display_data"
    },
    {
     "data": {
      "text/plain": [
       "<Figure size 640x480 with 0 Axes>"
      ]
     },
     "metadata": {},
     "output_type": "display_data"
    },
    {
     "data": {
      "text/plain": [
       "<Figure size 640x480 with 0 Axes>"
      ]
     },
     "metadata": {},
     "output_type": "display_data"
    },
    {
     "data": {
      "text/plain": [
       "<Figure size 640x480 with 0 Axes>"
      ]
     },
     "metadata": {},
     "output_type": "display_data"
    },
    {
     "data": {
      "text/plain": [
       "<Figure size 640x480 with 0 Axes>"
      ]
     },
     "metadata": {},
     "output_type": "display_data"
    },
    {
     "data": {
      "text/plain": [
       "<Figure size 640x480 with 0 Axes>"
      ]
     },
     "metadata": {},
     "output_type": "display_data"
    },
    {
     "data": {
      "text/plain": [
       "<Figure size 640x480 with 0 Axes>"
      ]
     },
     "metadata": {},
     "output_type": "display_data"
    },
    {
     "data": {
      "text/plain": [
       "<Figure size 640x480 with 0 Axes>"
      ]
     },
     "metadata": {},
     "output_type": "display_data"
    },
    {
     "data": {
      "text/plain": [
       "<Figure size 640x480 with 0 Axes>"
      ]
     },
     "metadata": {},
     "output_type": "display_data"
    },
    {
     "data": {
      "text/plain": [
       "<Figure size 640x480 with 0 Axes>"
      ]
     },
     "metadata": {},
     "output_type": "display_data"
    },
    {
     "data": {
      "text/plain": [
       "<Figure size 640x480 with 0 Axes>"
      ]
     },
     "metadata": {},
     "output_type": "display_data"
    },
    {
     "data": {
      "text/plain": [
       "<Figure size 640x480 with 0 Axes>"
      ]
     },
     "metadata": {},
     "output_type": "display_data"
    },
    {
     "data": {
      "text/plain": [
       "<Figure size 640x480 with 0 Axes>"
      ]
     },
     "metadata": {},
     "output_type": "display_data"
    },
    {
     "data": {
      "text/plain": [
       "<Figure size 640x480 with 0 Axes>"
      ]
     },
     "metadata": {},
     "output_type": "display_data"
    },
    {
     "data": {
      "text/plain": [
       "<Figure size 640x480 with 0 Axes>"
      ]
     },
     "metadata": {},
     "output_type": "display_data"
    },
    {
     "data": {
      "text/plain": [
       "<Figure size 640x480 with 0 Axes>"
      ]
     },
     "metadata": {},
     "output_type": "display_data"
    },
    {
     "data": {
      "text/plain": [
       "<Figure size 640x480 with 0 Axes>"
      ]
     },
     "metadata": {},
     "output_type": "display_data"
    },
    {
     "data": {
      "text/plain": [
       "<Figure size 640x480 with 0 Axes>"
      ]
     },
     "metadata": {},
     "output_type": "display_data"
    },
    {
     "data": {
      "text/plain": [
       "<Figure size 640x480 with 0 Axes>"
      ]
     },
     "metadata": {},
     "output_type": "display_data"
    },
    {
     "data": {
      "text/plain": [
       "<Figure size 640x480 with 0 Axes>"
      ]
     },
     "metadata": {},
     "output_type": "display_data"
    },
    {
     "data": {
      "text/plain": [
       "<Figure size 640x480 with 0 Axes>"
      ]
     },
     "metadata": {},
     "output_type": "display_data"
    },
    {
     "data": {
      "text/plain": [
       "<Figure size 640x480 with 0 Axes>"
      ]
     },
     "metadata": {},
     "output_type": "display_data"
    },
    {
     "data": {
      "text/plain": [
       "<Figure size 640x480 with 0 Axes>"
      ]
     },
     "metadata": {},
     "output_type": "display_data"
    },
    {
     "data": {
      "text/plain": [
       "<Figure size 640x480 with 0 Axes>"
      ]
     },
     "metadata": {},
     "output_type": "display_data"
    },
    {
     "data": {
      "text/plain": [
       "<Figure size 640x480 with 0 Axes>"
      ]
     },
     "metadata": {},
     "output_type": "display_data"
    },
    {
     "data": {
      "text/plain": [
       "<Figure size 640x480 with 0 Axes>"
      ]
     },
     "metadata": {},
     "output_type": "display_data"
    },
    {
     "data": {
      "text/plain": [
       "<Figure size 640x480 with 0 Axes>"
      ]
     },
     "metadata": {},
     "output_type": "display_data"
    },
    {
     "data": {
      "text/plain": [
       "<Figure size 640x480 with 0 Axes>"
      ]
     },
     "metadata": {},
     "output_type": "display_data"
    },
    {
     "data": {
      "text/plain": [
       "<Figure size 640x480 with 0 Axes>"
      ]
     },
     "metadata": {},
     "output_type": "display_data"
    },
    {
     "data": {
      "text/plain": [
       "<Figure size 640x480 with 0 Axes>"
      ]
     },
     "metadata": {},
     "output_type": "display_data"
    },
    {
     "data": {
      "text/plain": [
       "<Figure size 640x480 with 0 Axes>"
      ]
     },
     "metadata": {},
     "output_type": "display_data"
    },
    {
     "data": {
      "text/plain": [
       "<Figure size 640x480 with 0 Axes>"
      ]
     },
     "metadata": {},
     "output_type": "display_data"
    },
    {
     "data": {
      "text/plain": [
       "<Figure size 640x480 with 0 Axes>"
      ]
     },
     "metadata": {},
     "output_type": "display_data"
    },
    {
     "data": {
      "text/plain": [
       "<Figure size 640x480 with 0 Axes>"
      ]
     },
     "metadata": {},
     "output_type": "display_data"
    },
    {
     "data": {
      "text/plain": [
       "<Figure size 640x480 with 0 Axes>"
      ]
     },
     "metadata": {},
     "output_type": "display_data"
    },
    {
     "data": {
      "text/plain": [
       "<Figure size 640x480 with 0 Axes>"
      ]
     },
     "metadata": {},
     "output_type": "display_data"
    },
    {
     "data": {
      "text/plain": [
       "<Figure size 640x480 with 0 Axes>"
      ]
     },
     "metadata": {},
     "output_type": "display_data"
    },
    {
     "data": {
      "text/plain": [
       "<Figure size 640x480 with 0 Axes>"
      ]
     },
     "metadata": {},
     "output_type": "display_data"
    },
    {
     "data": {
      "text/plain": [
       "<Figure size 640x480 with 0 Axes>"
      ]
     },
     "metadata": {},
     "output_type": "display_data"
    },
    {
     "data": {
      "text/plain": [
       "<Figure size 640x480 with 0 Axes>"
      ]
     },
     "metadata": {},
     "output_type": "display_data"
    },
    {
     "data": {
      "text/plain": [
       "<Figure size 640x480 with 0 Axes>"
      ]
     },
     "metadata": {},
     "output_type": "display_data"
    },
    {
     "data": {
      "text/plain": [
       "<Figure size 640x480 with 0 Axes>"
      ]
     },
     "metadata": {},
     "output_type": "display_data"
    },
    {
     "data": {
      "text/plain": [
       "<Figure size 640x480 with 0 Axes>"
      ]
     },
     "metadata": {},
     "output_type": "display_data"
    },
    {
     "data": {
      "text/plain": [
       "<Figure size 640x480 with 0 Axes>"
      ]
     },
     "metadata": {},
     "output_type": "display_data"
    },
    {
     "data": {
      "text/plain": [
       "<Figure size 640x480 with 0 Axes>"
      ]
     },
     "metadata": {},
     "output_type": "display_data"
    },
    {
     "data": {
      "text/plain": [
       "<Figure size 640x480 with 0 Axes>"
      ]
     },
     "metadata": {},
     "output_type": "display_data"
    },
    {
     "data": {
      "text/plain": [
       "<Figure size 640x480 with 0 Axes>"
      ]
     },
     "metadata": {},
     "output_type": "display_data"
    },
    {
     "data": {
      "text/plain": [
       "<Figure size 640x480 with 0 Axes>"
      ]
     },
     "metadata": {},
     "output_type": "display_data"
    },
    {
     "data": {
      "text/plain": [
       "<Figure size 640x480 with 0 Axes>"
      ]
     },
     "metadata": {},
     "output_type": "display_data"
    },
    {
     "data": {
      "text/plain": [
       "<Figure size 640x480 with 0 Axes>"
      ]
     },
     "metadata": {},
     "output_type": "display_data"
    },
    {
     "data": {
      "text/plain": [
       "<Figure size 640x480 with 0 Axes>"
      ]
     },
     "metadata": {},
     "output_type": "display_data"
    },
    {
     "data": {
      "text/plain": [
       "<Figure size 640x480 with 0 Axes>"
      ]
     },
     "metadata": {},
     "output_type": "display_data"
    },
    {
     "data": {
      "text/plain": [
       "<Figure size 640x480 with 0 Axes>"
      ]
     },
     "metadata": {},
     "output_type": "display_data"
    },
    {
     "data": {
      "text/plain": [
       "<Figure size 640x480 with 0 Axes>"
      ]
     },
     "metadata": {},
     "output_type": "display_data"
    },
    {
     "data": {
      "text/plain": [
       "<Figure size 640x480 with 0 Axes>"
      ]
     },
     "metadata": {},
     "output_type": "display_data"
    },
    {
     "data": {
      "text/plain": [
       "<Figure size 640x480 with 0 Axes>"
      ]
     },
     "metadata": {},
     "output_type": "display_data"
    },
    {
     "data": {
      "text/plain": [
       "<Figure size 640x480 with 0 Axes>"
      ]
     },
     "metadata": {},
     "output_type": "display_data"
    },
    {
     "data": {
      "text/plain": [
       "<Figure size 640x480 with 0 Axes>"
      ]
     },
     "metadata": {},
     "output_type": "display_data"
    },
    {
     "data": {
      "text/plain": [
       "<Figure size 640x480 with 0 Axes>"
      ]
     },
     "metadata": {},
     "output_type": "display_data"
    },
    {
     "data": {
      "text/plain": [
       "<Figure size 640x480 with 0 Axes>"
      ]
     },
     "metadata": {},
     "output_type": "display_data"
    },
    {
     "data": {
      "text/plain": [
       "<Figure size 640x480 with 0 Axes>"
      ]
     },
     "metadata": {},
     "output_type": "display_data"
    },
    {
     "data": {
      "text/plain": [
       "<Figure size 640x480 with 0 Axes>"
      ]
     },
     "metadata": {},
     "output_type": "display_data"
    },
    {
     "data": {
      "text/plain": [
       "<Figure size 640x480 with 0 Axes>"
      ]
     },
     "metadata": {},
     "output_type": "display_data"
    },
    {
     "data": {
      "text/plain": [
       "<Figure size 640x480 with 0 Axes>"
      ]
     },
     "metadata": {},
     "output_type": "display_data"
    },
    {
     "data": {
      "text/plain": [
       "<Figure size 640x480 with 0 Axes>"
      ]
     },
     "metadata": {},
     "output_type": "display_data"
    },
    {
     "data": {
      "text/plain": [
       "<Figure size 640x480 with 0 Axes>"
      ]
     },
     "metadata": {},
     "output_type": "display_data"
    },
    {
     "data": {
      "text/plain": [
       "<Figure size 640x480 with 0 Axes>"
      ]
     },
     "metadata": {},
     "output_type": "display_data"
    },
    {
     "data": {
      "text/plain": [
       "<Figure size 640x480 with 0 Axes>"
      ]
     },
     "metadata": {},
     "output_type": "display_data"
    },
    {
     "data": {
      "text/plain": [
       "<Figure size 640x480 with 0 Axes>"
      ]
     },
     "metadata": {},
     "output_type": "display_data"
    },
    {
     "data": {
      "text/plain": [
       "<Figure size 640x480 with 0 Axes>"
      ]
     },
     "metadata": {},
     "output_type": "display_data"
    },
    {
     "data": {
      "text/plain": [
       "<Figure size 640x480 with 0 Axes>"
      ]
     },
     "metadata": {},
     "output_type": "display_data"
    },
    {
     "data": {
      "text/plain": [
       "<Figure size 640x480 with 0 Axes>"
      ]
     },
     "metadata": {},
     "output_type": "display_data"
    },
    {
     "data": {
      "text/plain": [
       "<Figure size 640x480 with 0 Axes>"
      ]
     },
     "metadata": {},
     "output_type": "display_data"
    },
    {
     "data": {
      "text/plain": [
       "<Figure size 640x480 with 0 Axes>"
      ]
     },
     "metadata": {},
     "output_type": "display_data"
    },
    {
     "data": {
      "text/plain": [
       "<Figure size 640x480 with 0 Axes>"
      ]
     },
     "metadata": {},
     "output_type": "display_data"
    },
    {
     "data": {
      "text/plain": [
       "<Figure size 640x480 with 0 Axes>"
      ]
     },
     "metadata": {},
     "output_type": "display_data"
    },
    {
     "data": {
      "text/plain": [
       "<Figure size 640x480 with 0 Axes>"
      ]
     },
     "metadata": {},
     "output_type": "display_data"
    },
    {
     "data": {
      "text/plain": [
       "<Figure size 640x480 with 0 Axes>"
      ]
     },
     "metadata": {},
     "output_type": "display_data"
    },
    {
     "data": {
      "text/plain": [
       "<Figure size 640x480 with 0 Axes>"
      ]
     },
     "metadata": {},
     "output_type": "display_data"
    },
    {
     "data": {
      "text/plain": [
       "<Figure size 640x480 with 0 Axes>"
      ]
     },
     "metadata": {},
     "output_type": "display_data"
    },
    {
     "data": {
      "text/plain": [
       "<Figure size 640x480 with 0 Axes>"
      ]
     },
     "metadata": {},
     "output_type": "display_data"
    },
    {
     "data": {
      "text/plain": [
       "<Figure size 640x480 with 0 Axes>"
      ]
     },
     "metadata": {},
     "output_type": "display_data"
    },
    {
     "data": {
      "text/plain": [
       "<Figure size 640x480 with 0 Axes>"
      ]
     },
     "metadata": {},
     "output_type": "display_data"
    },
    {
     "data": {
      "text/plain": [
       "<Figure size 640x480 with 0 Axes>"
      ]
     },
     "metadata": {},
     "output_type": "display_data"
    },
    {
     "data": {
      "text/plain": [
       "<Figure size 640x480 with 0 Axes>"
      ]
     },
     "metadata": {},
     "output_type": "display_data"
    },
    {
     "data": {
      "text/plain": [
       "<Figure size 640x480 with 0 Axes>"
      ]
     },
     "metadata": {},
     "output_type": "display_data"
    },
    {
     "data": {
      "text/plain": [
       "<Figure size 640x480 with 0 Axes>"
      ]
     },
     "metadata": {},
     "output_type": "display_data"
    },
    {
     "data": {
      "text/plain": [
       "<Figure size 640x480 with 0 Axes>"
      ]
     },
     "metadata": {},
     "output_type": "display_data"
    },
    {
     "data": {
      "text/plain": [
       "<Figure size 640x480 with 0 Axes>"
      ]
     },
     "metadata": {},
     "output_type": "display_data"
    },
    {
     "data": {
      "text/plain": [
       "<Figure size 640x480 with 0 Axes>"
      ]
     },
     "metadata": {},
     "output_type": "display_data"
    },
    {
     "data": {
      "text/plain": [
       "<Figure size 640x480 with 0 Axes>"
      ]
     },
     "metadata": {},
     "output_type": "display_data"
    },
    {
     "data": {
      "text/plain": [
       "<Figure size 640x480 with 0 Axes>"
      ]
     },
     "metadata": {},
     "output_type": "display_data"
    },
    {
     "data": {
      "text/plain": [
       "<Figure size 640x480 with 0 Axes>"
      ]
     },
     "metadata": {},
     "output_type": "display_data"
    },
    {
     "data": {
      "text/plain": [
       "<Figure size 640x480 with 0 Axes>"
      ]
     },
     "metadata": {},
     "output_type": "display_data"
    },
    {
     "data": {
      "text/plain": [
       "<Figure size 640x480 with 0 Axes>"
      ]
     },
     "metadata": {},
     "output_type": "display_data"
    },
    {
     "data": {
      "text/plain": [
       "<Figure size 640x480 with 0 Axes>"
      ]
     },
     "metadata": {},
     "output_type": "display_data"
    },
    {
     "data": {
      "text/plain": [
       "<Figure size 640x480 with 0 Axes>"
      ]
     },
     "metadata": {},
     "output_type": "display_data"
    },
    {
     "data": {
      "text/plain": [
       "<Figure size 640x480 with 0 Axes>"
      ]
     },
     "metadata": {},
     "output_type": "display_data"
    },
    {
     "data": {
      "text/plain": [
       "<Figure size 640x480 with 0 Axes>"
      ]
     },
     "metadata": {},
     "output_type": "display_data"
    },
    {
     "data": {
      "text/plain": [
       "<Figure size 640x480 with 0 Axes>"
      ]
     },
     "metadata": {},
     "output_type": "display_data"
    },
    {
     "data": {
      "text/plain": [
       "<Figure size 640x480 with 0 Axes>"
      ]
     },
     "metadata": {},
     "output_type": "display_data"
    },
    {
     "data": {
      "text/plain": [
       "<Figure size 640x480 with 0 Axes>"
      ]
     },
     "metadata": {},
     "output_type": "display_data"
    },
    {
     "data": {
      "text/plain": [
       "<Figure size 640x480 with 0 Axes>"
      ]
     },
     "metadata": {},
     "output_type": "display_data"
    },
    {
     "data": {
      "text/plain": [
       "<Figure size 640x480 with 0 Axes>"
      ]
     },
     "metadata": {},
     "output_type": "display_data"
    },
    {
     "data": {
      "text/plain": [
       "<Figure size 640x480 with 0 Axes>"
      ]
     },
     "metadata": {},
     "output_type": "display_data"
    },
    {
     "data": {
      "text/plain": [
       "<Figure size 640x480 with 0 Axes>"
      ]
     },
     "metadata": {},
     "output_type": "display_data"
    },
    {
     "data": {
      "text/plain": [
       "<Figure size 640x480 with 0 Axes>"
      ]
     },
     "metadata": {},
     "output_type": "display_data"
    },
    {
     "data": {
      "text/plain": [
       "<Figure size 640x480 with 0 Axes>"
      ]
     },
     "metadata": {},
     "output_type": "display_data"
    },
    {
     "data": {
      "text/plain": [
       "<Figure size 640x480 with 0 Axes>"
      ]
     },
     "metadata": {},
     "output_type": "display_data"
    },
    {
     "data": {
      "text/plain": [
       "<Figure size 640x480 with 0 Axes>"
      ]
     },
     "metadata": {},
     "output_type": "display_data"
    },
    {
     "data": {
      "text/plain": [
       "<Figure size 640x480 with 0 Axes>"
      ]
     },
     "metadata": {},
     "output_type": "display_data"
    },
    {
     "data": {
      "text/plain": [
       "<Figure size 640x480 with 0 Axes>"
      ]
     },
     "metadata": {},
     "output_type": "display_data"
    },
    {
     "data": {
      "text/plain": [
       "<Figure size 640x480 with 0 Axes>"
      ]
     },
     "metadata": {},
     "output_type": "display_data"
    },
    {
     "data": {
      "text/plain": [
       "<Figure size 640x480 with 0 Axes>"
      ]
     },
     "metadata": {},
     "output_type": "display_data"
    },
    {
     "data": {
      "text/plain": [
       "<Figure size 640x480 with 0 Axes>"
      ]
     },
     "metadata": {},
     "output_type": "display_data"
    },
    {
     "data": {
      "text/plain": [
       "<Figure size 640x480 with 0 Axes>"
      ]
     },
     "metadata": {},
     "output_type": "display_data"
    },
    {
     "data": {
      "text/plain": [
       "<Figure size 640x480 with 0 Axes>"
      ]
     },
     "metadata": {},
     "output_type": "display_data"
    },
    {
     "data": {
      "text/plain": [
       "<Figure size 640x480 with 0 Axes>"
      ]
     },
     "metadata": {},
     "output_type": "display_data"
    },
    {
     "data": {
      "text/plain": [
       "<Figure size 640x480 with 0 Axes>"
      ]
     },
     "metadata": {},
     "output_type": "display_data"
    },
    {
     "data": {
      "text/plain": [
       "<Figure size 640x480 with 0 Axes>"
      ]
     },
     "metadata": {},
     "output_type": "display_data"
    },
    {
     "data": {
      "text/plain": [
       "<Figure size 640x480 with 0 Axes>"
      ]
     },
     "metadata": {},
     "output_type": "display_data"
    },
    {
     "data": {
      "text/plain": [
       "<Figure size 640x480 with 0 Axes>"
      ]
     },
     "metadata": {},
     "output_type": "display_data"
    },
    {
     "data": {
      "text/plain": [
       "<Figure size 640x480 with 0 Axes>"
      ]
     },
     "metadata": {},
     "output_type": "display_data"
    },
    {
     "data": {
      "text/plain": [
       "<Figure size 640x480 with 0 Axes>"
      ]
     },
     "metadata": {},
     "output_type": "display_data"
    },
    {
     "data": {
      "text/plain": [
       "<Figure size 640x480 with 0 Axes>"
      ]
     },
     "metadata": {},
     "output_type": "display_data"
    },
    {
     "data": {
      "text/plain": [
       "<Figure size 640x480 with 0 Axes>"
      ]
     },
     "metadata": {},
     "output_type": "display_data"
    },
    {
     "data": {
      "text/plain": [
       "<Figure size 640x480 with 0 Axes>"
      ]
     },
     "metadata": {},
     "output_type": "display_data"
    },
    {
     "data": {
      "text/plain": [
       "<Figure size 640x480 with 0 Axes>"
      ]
     },
     "metadata": {},
     "output_type": "display_data"
    },
    {
     "data": {
      "text/plain": [
       "<Figure size 640x480 with 0 Axes>"
      ]
     },
     "metadata": {},
     "output_type": "display_data"
    },
    {
     "data": {
      "text/plain": [
       "<Figure size 640x480 with 0 Axes>"
      ]
     },
     "metadata": {},
     "output_type": "display_data"
    },
    {
     "data": {
      "text/plain": [
       "<Figure size 640x480 with 0 Axes>"
      ]
     },
     "metadata": {},
     "output_type": "display_data"
    },
    {
     "data": {
      "text/plain": [
       "<Figure size 640x480 with 0 Axes>"
      ]
     },
     "metadata": {},
     "output_type": "display_data"
    },
    {
     "data": {
      "text/plain": [
       "<Figure size 640x480 with 0 Axes>"
      ]
     },
     "metadata": {},
     "output_type": "display_data"
    },
    {
     "data": {
      "text/plain": [
       "<Figure size 640x480 with 0 Axes>"
      ]
     },
     "metadata": {},
     "output_type": "display_data"
    },
    {
     "data": {
      "text/plain": [
       "<Figure size 640x480 with 0 Axes>"
      ]
     },
     "metadata": {},
     "output_type": "display_data"
    },
    {
     "data": {
      "text/plain": [
       "<Figure size 640x480 with 0 Axes>"
      ]
     },
     "metadata": {},
     "output_type": "display_data"
    },
    {
     "data": {
      "text/plain": [
       "<Figure size 640x480 with 0 Axes>"
      ]
     },
     "metadata": {},
     "output_type": "display_data"
    },
    {
     "data": {
      "text/plain": [
       "<Figure size 640x480 with 0 Axes>"
      ]
     },
     "metadata": {},
     "output_type": "display_data"
    },
    {
     "data": {
      "text/plain": [
       "<Figure size 640x480 with 0 Axes>"
      ]
     },
     "metadata": {},
     "output_type": "display_data"
    },
    {
     "data": {
      "text/plain": [
       "<Figure size 640x480 with 0 Axes>"
      ]
     },
     "metadata": {},
     "output_type": "display_data"
    },
    {
     "data": {
      "text/plain": [
       "<Figure size 640x480 with 0 Axes>"
      ]
     },
     "metadata": {},
     "output_type": "display_data"
    },
    {
     "data": {
      "text/plain": [
       "<Figure size 640x480 with 0 Axes>"
      ]
     },
     "metadata": {},
     "output_type": "display_data"
    },
    {
     "data": {
      "text/plain": [
       "<Figure size 640x480 with 0 Axes>"
      ]
     },
     "metadata": {},
     "output_type": "display_data"
    },
    {
     "data": {
      "text/plain": [
       "<Figure size 640x480 with 0 Axes>"
      ]
     },
     "metadata": {},
     "output_type": "display_data"
    },
    {
     "data": {
      "text/plain": [
       "<Figure size 640x480 with 0 Axes>"
      ]
     },
     "metadata": {},
     "output_type": "display_data"
    },
    {
     "data": {
      "text/plain": [
       "<Figure size 640x480 with 0 Axes>"
      ]
     },
     "metadata": {},
     "output_type": "display_data"
    },
    {
     "data": {
      "text/plain": [
       "<Figure size 640x480 with 0 Axes>"
      ]
     },
     "metadata": {},
     "output_type": "display_data"
    },
    {
     "data": {
      "text/plain": [
       "<Figure size 640x480 with 0 Axes>"
      ]
     },
     "metadata": {},
     "output_type": "display_data"
    },
    {
     "data": {
      "text/plain": [
       "<Figure size 640x480 with 0 Axes>"
      ]
     },
     "metadata": {},
     "output_type": "display_data"
    },
    {
     "data": {
      "text/plain": [
       "<Figure size 640x480 with 0 Axes>"
      ]
     },
     "metadata": {},
     "output_type": "display_data"
    },
    {
     "data": {
      "text/plain": [
       "<Figure size 640x480 with 0 Axes>"
      ]
     },
     "metadata": {},
     "output_type": "display_data"
    },
    {
     "data": {
      "text/plain": [
       "<Figure size 640x480 with 0 Axes>"
      ]
     },
     "metadata": {},
     "output_type": "display_data"
    },
    {
     "data": {
      "text/plain": [
       "<Figure size 640x480 with 0 Axes>"
      ]
     },
     "metadata": {},
     "output_type": "display_data"
    },
    {
     "data": {
      "text/plain": [
       "<Figure size 640x480 with 0 Axes>"
      ]
     },
     "metadata": {},
     "output_type": "display_data"
    },
    {
     "data": {
      "text/plain": [
       "<Figure size 640x480 with 0 Axes>"
      ]
     },
     "metadata": {},
     "output_type": "display_data"
    },
    {
     "data": {
      "text/plain": [
       "<Figure size 640x480 with 0 Axes>"
      ]
     },
     "metadata": {},
     "output_type": "display_data"
    },
    {
     "name": "stdout",
     "output_type": "stream",
     "text": [
      "Timer unit: 1e-09 s\n",
      "\n",
      "Total time: 41.8304 s\n",
      "File: /var/folders/zc/s2x1jcqx7gd7y6myf0gmt49c0000gn/T/ipykernel_87829/3059091120.py\n",
      "Function: blend_forehead_mask at line 367\n",
      "\n",
      "Line #      Hits         Time  Per Hit   % Time  Line Contents\n",
      "==============================================================\n",
      "   367                                           def blend_forehead_mask(face_mask, landmarks_2d):\n",
      "   368                                               global triangles\n",
      "   369       200      67000.0    335.0      0.0      landmarks = landmarks_2d\n",
      "   370       200    3357000.0  16785.0      0.0      migrated_landmarks = migrate_landmarks(landmarks)\n",
      "   371       200    2598000.0  12990.0      0.0      colors = np.ones(len(migrated_landmarks), dtype=np.uint8) * 1\n",
      "   372       200      44000.0    220.0      0.0      forehead_landmarks = [10, 67, 103, 109, 297, 332, 338]\n",
      "   373       200     587000.0   2935.0      0.0      colors[forehead_landmarks] = 0\n",
      "   374       200   66078000.0 330390.0      0.2      fig = plt.figure()\n",
      "   375       200 2106902000.0 10534510.0      5.0      fig.add_subplot(111)\n",
      "   376       200  106393000.0 531965.0      0.3      plt.imshow(face_mask[:,:,0], cmap=\"gray\")\n",
      "   377       200 12289838000.0 61449190.0     29.4      plt.tricontour(migrated_landmarks[:,0] * 256, migrated_landmarks[:,1] * 256, colors, levels=256, cmap=ease_out_cmap)\n",
      "   378       200    4675000.0  23375.0      0.0      plt.axis('off')\n",
      "   379       200 1878601000.0 9393005.0      4.5      plt.tight_layout()\n",
      "   380       200 21316066000.0 106580330.0     51.0      plt.savefig(\"tmp.png\", bbox_inches='tight', pad_inches=0)\n",
      "   381       200 3106916000.0 15534580.0      7.4      plt.clf()\n",
      "   382       200  948169000.0 4740845.0      2.3      extended_face_mask = np.array(Image.fromarray(plt.imread(\"tmp.png\")[:,:,0]).resize((256, 256)))\n",
      "   383       200      62000.0    310.0      0.0      return extended_face_mask"
     ]
    }
   ],
   "source": [
    "all_images = [(plt.imread(os.path.join(\"../images\", path)) * 255).astype(np.uint8) for path in os.listdir(\"../images\") if path.endswith(\".png\")]\n",
    "%lprun -f blend_forehead_mask results = pipeline(all_images)\n",
    "result_paths = [os.path.join(\"results\", path) for path in os.listdir(\"../images\") if path.endswith(\".png\")]\n",
    "for path, result in zip(result_paths, results):\n",
    "    plt.imsave(path, result)"
   ]
  },
  {
   "cell_type": "code",
   "execution_count": null,
   "metadata": {},
   "outputs": [],
   "source": []
  }
 ],
 "metadata": {
  "kernelspec": {
   "display_name": "cv",
   "language": "python",
   "name": "python3"
  },
  "language_info": {
   "codemirror_mode": {
    "name": "ipython",
    "version": 3
   },
   "file_extension": ".py",
   "mimetype": "text/x-python",
   "name": "python",
   "nbconvert_exporter": "python",
   "pygments_lexer": "ipython3",
   "version": "3.10.9"
  }
 },
 "nbformat": 4,
 "nbformat_minor": 2
}
